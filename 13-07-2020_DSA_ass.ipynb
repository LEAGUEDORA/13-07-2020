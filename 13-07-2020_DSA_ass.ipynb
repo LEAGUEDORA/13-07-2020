{
  "nbformat": 4,
  "nbformat_minor": 0,
  "metadata": {
    "colab": {
      "name": "Welcome To Colaboratory",
      "provenance": [],
      "collapsed_sections": [],
      "include_colab_link": true
    },
    "kernelspec": {
      "display_name": "Python 3",
      "name": "python3"
    }
  },
  "cells": [
    {
      "cell_type": "markdown",
      "metadata": {
        "id": "view-in-github",
        "colab_type": "text"
      },
      "source": [
        "<a href=\"https://colab.research.google.com/github/Sandeepdora/13-07-2020/blob/master/13-07-2020_DSA_ass.ipynb\" target=\"_parent\"><img src=\"https://colab.research.google.com/assets/colab-badge.svg\" alt=\"Open In Colab\"/></a>"
      ]
    },
    {
      "cell_type": "code",
      "metadata": {
        "id": "VS2EkKs6byO3",
        "colab_type": "code",
        "colab": {}
      },
      "source": [
        "#Code by Boyinapalli Sandeep Dora\n",
        "#Regd No. 19Pa1A0521\n",
        "# II CSE - A 2023 \n",
        "#Programming Assignment on 13-07-2020"
      ],
      "execution_count": 1,
      "outputs": []
    },
    {
      "cell_type": "code",
      "metadata": {
        "id": "giPXdyTjdQVv",
        "colab_type": "code",
        "colab": {}
      },
      "source": [
        "# Code for perfect Number"
      ],
      "execution_count": null,
      "outputs": []
    },
    {
      "cell_type": "code",
      "metadata": {
        "id": "Lbw4obwOb7fI",
        "colab_type": "code",
        "colab": {
          "base_uri": "https://localhost:8080/",
          "height": 34
        },
        "outputId": "7c7b6ff0-9cef-4f17-b583-375cfdc78f5c"
      },
      "source": [
        "number = int(input(\"Enter a Number \"))"
      ],
      "execution_count": 4,
      "outputs": [
        {
          "output_type": "stream",
          "text": [
            "Enter a Number 20\n"
          ],
          "name": "stdout"
        }
      ]
    },
    {
      "cell_type": "code",
      "metadata": {
        "id": "l_-H1umIco87",
        "colab_type": "code",
        "colab": {
          "base_uri": "https://localhost:8080/",
          "height": 34
        },
        "outputId": "38ac880f-d854-4c7a-e9ec-b8b3706d2651"
      },
      "source": [
        "sum = 0\n",
        "for i in range(1, number):\n",
        "  if number % i == 0:\n",
        "    sum += i\n",
        "if sum == number:\n",
        "  print(\"Yes it is a perfect Number\")\n",
        "else:\n",
        "  print(\"No it is not a prefect Number\")"
      ],
      "execution_count": 5,
      "outputs": [
        {
          "output_type": "stream",
          "text": [
            "No it is not a prefect Number\n"
          ],
          "name": "stdout"
        }
      ]
    },
    {
      "cell_type": "code",
      "metadata": {
        "id": "OFxD-2nTdLEP",
        "colab_type": "code",
        "colab": {}
      },
      "source": [
        "# code for Strong Number"
      ],
      "execution_count": 6,
      "outputs": []
    },
    {
      "cell_type": "code",
      "metadata": {
        "id": "Q96znJNPdhlF",
        "colab_type": "code",
        "colab": {
          "base_uri": "https://localhost:8080/",
          "height": 34
        },
        "outputId": "8e5ec0e4-5e4e-4b44-fa94-deadf9fc7eea"
      },
      "source": [
        "import math\n",
        "number_2 = int(input(\"Number please: \"))"
      ],
      "execution_count": 8,
      "outputs": [
        {
          "output_type": "stream",
          "text": [
            "Number please: 40585\n"
          ],
          "name": "stdout"
        }
      ]
    },
    {
      "cell_type": "code",
      "metadata": {
        "id": "tXdvgnqXdl9M",
        "colab_type": "code",
        "colab": {
          "base_uri": "https://localhost:8080/",
          "height": 34
        },
        "outputId": "936ef49c-0daf-4a65-8baf-5ab50ba794bb"
      },
      "source": [
        "sum_2 = 0\n",
        "stri = str(number_2)\n",
        "for i in stri:\n",
        "  sum_2 +=  math.factorial(int(i))\n",
        "if sum_2 == number_2:\n",
        "  print(\"Yes the given number is a strong number\")\n",
        "else:\n",
        "  print(\"No the given number is not a strong number\")"
      ],
      "execution_count": 10,
      "outputs": [
        {
          "output_type": "stream",
          "text": [
            "Yes the given number is a strong number\n"
          ],
          "name": "stdout"
        }
      ]
    },
    {
      "cell_type": "code",
      "metadata": {
        "id": "-wN96G35eIWu",
        "colab_type": "code",
        "colab": {}
      },
      "source": [
        ""
      ],
      "execution_count": null,
      "outputs": []
    }
  ]
}